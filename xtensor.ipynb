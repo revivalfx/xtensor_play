{
 "cells": [
  {
   "cell_type": "code",
   "execution_count": 3,
   "metadata": {},
   "outputs": [
    {
     "data": {
      "text/html": [
       "<table style='border-style:solid;border-width:1px;'><tbody><tr><td style='font-family:monospace;' title='(0, 0)'><pre> 1.</pre></td><td style='font-family:monospace;' title='(0, 1)'><pre> 2.</pre></td><td style='font-family:monospace;' title='(0, 2)'><pre> 3.</pre></td></tr><tr><td style='font-family:monospace;' title='(1, 0)'><pre> 2.</pre></td><td style='font-family:monospace;' title='(1, 1)'><pre> 5.</pre></td><td style='font-family:monospace;' title='(1, 2)'><pre> 7.</pre></td></tr><tr><td style='font-family:monospace;' title='(2, 0)'><pre> 2.</pre></td><td style='font-family:monospace;' title='(2, 1)'><pre> 5.</pre></td><td style='font-family:monospace;' title='(2, 2)'><pre> 7.</pre></td></tr></tbody></table>"
      ]
     },
     "execution_count": 3,
     "metadata": {},
     "output_type": "execute_result"
    }
   ],
   "source": [
    "#include <iostream>\n",
    "\n",
    "#include \"xtensor/xarray.hpp\"\n",
    "#include \"xtensor/xio.hpp\"\n",
    "#include \"xtensor/xview.hpp\"\n",
    "#include \"xtensor/xtensor.hpp\"\n",
    "#include \"xtensor/xmath.hpp\"\n",
    "#include \"xtensor/xstrided_view.hpp\"\n",
    "#include \"xtensor/xrandom.hpp\"\n",
    "xt::xarray<double> arr1\n",
    "  {{1.0, 2.0, 3.0},\n",
    "   {2.0, 5.0, 7.0},\n",
    "   {2.0, 5.0, 7.0}}\n",
    "\n",
    "arr1"
   ]
  },
  {
   "cell_type": "code",
   "execution_count": 4,
   "metadata": {},
   "outputs": [
    {
     "data": {
      "text/html": [
       "<table style='border-style:solid;border-width:1px;'><tbody><tr><td style='font-family:monospace;' title='0'><pre> 5.</pre></td></tr><tr><td style='font-family:monospace;' title='1'><pre> 6.</pre></td></tr><tr><td style='font-family:monospace;' title='2'><pre> 7.</pre></td></tr></tbody></table>"
      ]
     },
     "execution_count": 4,
     "metadata": {},
     "output_type": "execute_result"
    }
   ],
   "source": [
    "xt::xarray<double> arr2\n",
    "  {5.0, 6.0, 7.0};\n",
    "arr2"
   ]
  },
  {
   "cell_type": "code",
   "execution_count": 5,
   "metadata": {},
   "outputs": [
    {
     "data": {
      "text/html": [
       "<table style='border-style:solid;border-width:1px;'><tbody><tr><td style='font-family:monospace;' title='0'><pre>  7.</pre></td></tr><tr><td style='font-family:monospace;' title='1'><pre> 11.</pre></td></tr><tr><td style='font-family:monospace;' title='2'><pre> 14.</pre></td></tr></tbody></table>"
      ]
     },
     "execution_count": 5,
     "metadata": {},
     "output_type": "execute_result"
    }
   ],
   "source": [
    "\n",
    "xt::view(arr1, 1) + arr2"
   ]
  },
  {
   "cell_type": "code",
   "execution_count": 3,
   "metadata": {},
   "outputs": [
    {
     "data": {
      "text/html": [
       "<table style='border-style:solid;border-width:1px;'><tbody><tr><td style='font-family:monospace;' title='(0, 0)'><pre> 0.</pre></td><td style='font-family:monospace;' title='(0, 1)'><pre> 0.</pre></td><td style='font-family:monospace;' title='(0, 2)'><pre> 0.</pre></td><td style='font-family:monospace;' title='(0, 3)'><pre> 0.</pre></td><td style='font-family:monospace;' title='(0, 4)'><pre> 0.</pre></td><td style='font-family:monospace;' title='(0, 5)'><pre> 0.</pre></td><td style='font-family:monospace;' title='(0, 6)'><pre> 0.</pre></td><td style='font-family:monospace;' title='(0, 7)'><pre> 0.</pre></td><td style='font-family:monospace;' title='(0, 8)'><pre> 0.</pre></td><td style='font-family:monospace;' title='(0, 9)'><pre> 0.</pre></td></tr></tbody></table>"
      ]
     },
     "execution_count": 3,
     "metadata": {},
     "output_type": "execute_result"
    }
   ],
   "source": [
    "xt::zeros<double>({1,10})"
   ]
  },
  {
   "cell_type": "code",
   "execution_count": 4,
   "metadata": {},
   "outputs": [
    {
     "data": {
      "text/html": [
       "<table style='border-style:solid;border-width:1px;'><tbody><tr><td style='font-family:monospace;' title='(0, 0)'><pre> 1.</pre></td><td style='font-family:monospace;' title='(0, 1)'><pre> 1.</pre></td><td style='font-family:monospace;' title='(0, 2)'><pre> 1.</pre></td><td style='font-family:monospace;' title='(0, 3)'><pre> 1.</pre></td><td style='font-family:monospace;' title='(0, 4)'><pre> 1.</pre></td><td style='font-family:monospace;' title='(0, 5)'><pre> 1.</pre></td><td style='font-family:monospace;' title='(0, 6)'><pre> 1.</pre></td><td style='font-family:monospace;' title='(0, 7)'><pre> 1.</pre></td><td style='font-family:monospace;' title='(0, 8)'><pre> 1.</pre></td><td style='font-family:monospace;' title='(0, 9)'><pre> 1.</pre></td></tr></tbody></table>"
      ]
     },
     "execution_count": 4,
     "metadata": {},
     "output_type": "execute_result"
    }
   ],
   "source": [
    "xt::ones<double>({1,10})"
   ]
  },
  {
   "cell_type": "code",
   "execution_count": 25,
   "metadata": {},
   "outputs": [
    {
     "data": {
      "text/html": [
       "<table style='border-style:solid;border-width:1px;'><tbody><tr><td style='font-family:monospace;' title='(0, 0)'><pre> 5.</pre></td><td style='font-family:monospace;' title='(0, 1)'><pre> 5.</pre></td><td style='font-family:monospace;' title='(0, 2)'><pre> 5.</pre></td><td style='font-family:monospace;' title='(0, 3)'><pre> 5.</pre></td><td style='font-family:monospace;' title='(0, 4)'><pre> 5.</pre></td><td style='font-family:monospace;' title='(0, 5)'><pre> 5.</pre></td><td style='font-family:monospace;' title='(0, 6)'><pre> 5.</pre></td><td style='font-family:monospace;' title='(0, 7)'><pre> 5.</pre></td><td style='font-family:monospace;' title='(0, 8)'><pre> 5.</pre></td><td style='font-family:monospace;' title='(0, 9)'><pre> 5.</pre></td></tr></tbody></table>"
      ]
     },
     "execution_count": 25,
     "metadata": {},
     "output_type": "execute_result"
    }
   ],
   "source": [
    "xt::ones<double>({1,10})*5"
   ]
  },
  {
   "cell_type": "code",
   "execution_count": 2,
   "metadata": {},
   "outputs": [],
   "source": [
    "#include <iostream>\n",
    "\n",
    "#include \"xtensor/xarray.hpp\"\n",
    "#include \"xtensor/xio.hpp\"\n",
    "#include \"xtensor/xview.hpp\"\n",
    "#include \"xtensor/xtensor.hpp\"\n",
    "#include \"xtensor/xmath.hpp\"\n",
    "#include \"xtensor/xstrided_view.hpp\"\n",
    "#include \"xtensor/xrandom.hpp\"\n",
    "#include \"xtensor/xmanipulation.hpp\"\n",
    "xt::random::seed(0)\n"
   ]
  },
  {
   "cell_type": "code",
   "execution_count": 9,
   "metadata": {},
   "outputs": [
    {
     "data": {
      "text/html": [
       "<table style='border-style:solid;border-width:1px;'><tbody><tr><td style='font-family:monospace;' title='0'><pre>10</pre></td></tr><tr><td style='font-family:monospace;' title='1'><pre>11</pre></td></tr><tr><td style='font-family:monospace;' title='2'><pre>12</pre></td></tr><tr><td style='font-family:monospace;' title='3'><pre>13</pre></td></tr><tr><td style='font-family:monospace;' title='4'><pre>14</pre></td></tr><tr><td style='font-family:monospace;' title='5'><pre>15</pre></td></tr><tr><td style='font-family:monospace;' title='6'><pre>16</pre></td></tr><tr><td style='font-family:monospace;' title='7'><pre>17</pre></td></tr><tr><td style='font-family:monospace;' title='8'><pre>18</pre></td></tr><tr><td style='font-family:monospace;' title='9'><pre>19</pre></td></tr><tr><td style='font-family:monospace;' title='10'><pre>20</pre></td></tr><tr><td style='font-family:monospace;' title='11'><pre>21</pre></td></tr><tr><td style='font-family:monospace;' title='12'><pre>22</pre></td></tr><tr><td style='font-family:monospace;' title='13'><pre>23</pre></td></tr><tr><td style='font-family:monospace;' title='14'><pre>24</pre></td></tr><tr><td style='font-family:monospace;' title='15'><pre>25</pre></td></tr><tr><td style='font-family:monospace;' title='16'><pre>26</pre></td></tr><tr><td style='font-family:monospace;' title='17'><pre>27</pre></td></tr><tr><td style='font-family:monospace;' title='18'><pre>28</pre></td></tr><tr><td style='font-family:monospace;' title='19'><pre>29</pre></td></tr><tr><td style='font-family:monospace;' title='20'><pre>30</pre></td></tr><tr><td style='font-family:monospace;' title='21'><pre>31</pre></td></tr><tr><td style='font-family:monospace;' title='22'><pre>32</pre></td></tr><tr><td style='font-family:monospace;' title='23'><pre>33</pre></td></tr><tr><td style='font-family:monospace;' title='24'><pre>34</pre></td></tr><tr><td style='font-family:monospace;' title='25'><pre>35</pre></td></tr><tr><td style='font-family:monospace;' title='26'><pre>36</pre></td></tr><tr><td style='font-family:monospace;' title='27'><pre>37</pre></td></tr><tr><td style='font-family:monospace;' title='28'><pre>38</pre></td></tr><tr><td style='font-family:monospace;' title='29'><pre>39</pre></td></tr><tr><td style='font-family:monospace;' title='30'><pre>40</pre></td></tr><tr><td style='font-family:monospace;' title='31'><pre>41</pre></td></tr><tr><td style='font-family:monospace;' title='32'><pre>42</pre></td></tr><tr><td style='font-family:monospace;' title='33'><pre>43</pre></td></tr><tr><td style='font-family:monospace;' title='34'><pre>44</pre></td></tr><tr><td style='font-family:monospace;' title='35'><pre>45</pre></td></tr><tr><td style='font-family:monospace;' title='36'><pre>46</pre></td></tr><tr><td style='font-family:monospace;' title='37'><pre>47</pre></td></tr><tr><td style='font-family:monospace;' title='38'><pre>48</pre></td></tr><tr><td style='font-family:monospace;' title='39'><pre>49</pre></td></tr><tr><td style='font-family:monospace;' title='40'><pre>50</pre></td></tr></tbody></table>"
      ]
     },
     "execution_count": 9,
     "metadata": {},
     "output_type": "execute_result"
    }
   ],
   "source": [
    "xt::arange(10,51,1)\n"
   ]
  },
  {
   "cell_type": "code",
   "execution_count": 10,
   "metadata": {},
   "outputs": [
    {
     "data": {
      "text/html": [
       "<table style='border-style:solid;border-width:1px;'><tbody><tr><td style='font-family:monospace;' title='(0, 0)'><pre>0</pre></td><td style='font-family:monospace;' title='(0, 1)'><pre>1</pre></td><td style='font-family:monospace;' title='(0, 2)'><pre>2</pre></td></tr><tr><td style='font-family:monospace;' title='(1, 0)'><pre>3</pre></td><td style='font-family:monospace;' title='(1, 1)'><pre>4</pre></td><td style='font-family:monospace;' title='(1, 2)'><pre>5</pre></td></tr></tbody></table>"
      ]
     },
     "execution_count": 10,
     "metadata": {},
     "output_type": "execute_result"
    }
   ],
   "source": [
    "xt::xarray<int> a = { {0, 1, 2}, {3, 4, 5} };\n",
    "a"
   ]
  },
  {
   "cell_type": "code",
   "execution_count": 11,
   "metadata": {},
   "outputs": [
    {
     "data": {
      "text/html": [
       "<table style='border-style:solid;border-width:1px;'><tbody><tr><td style='font-family:monospace;' title='(0, 0)'><pre>0</pre></td><td style='font-family:monospace;' title='(0, 1)'><pre>3</pre></td></tr><tr><td style='font-family:monospace;' title='(1, 0)'><pre>1</pre></td><td style='font-family:monospace;' title='(1, 1)'><pre>4</pre></td></tr><tr><td style='font-family:monospace;' title='(2, 0)'><pre>2</pre></td><td style='font-family:monospace;' title='(2, 1)'><pre>5</pre></td></tr></tbody></table>"
      ]
     },
     "execution_count": 11,
     "metadata": {},
     "output_type": "execute_result"
    }
   ],
   "source": [
    "auto tr = xt::transpose(a);\n",
    "tr"
   ]
  },
  {
   "cell_type": "code",
   "execution_count": 6,
   "metadata": {},
   "outputs": [
    {
     "data": {
      "text/html": [
       "<table style='border-style:solid;border-width:1px;'><tbody><tr><td style='font-family:monospace;' title='0'><pre>0</pre></td></tr><tr><td style='font-family:monospace;' title='1'><pre>1</pre></td></tr><tr><td style='font-family:monospace;' title='2'><pre>2</pre></td></tr><tr><td style='font-family:monospace;' title='3'><pre>3</pre></td></tr><tr><td style='font-family:monospace;' title='4'><pre>4</pre></td></tr><tr><td style='font-family:monospace;' title='5'><pre>5</pre></td></tr><tr><td style='font-family:monospace;' title='6'><pre>6</pre></td></tr><tr><td style='font-family:monospace;' title='7'><pre>7</pre></td></tr><tr><td style='font-family:monospace;' title='8'><pre>8</pre></td></tr></tbody></table>"
      ]
     },
     "execution_count": 6,
     "metadata": {},
     "output_type": "execute_result"
    }
   ],
   "source": [
    "a = xt::arange(9)"
   ]
  },
  {
   "cell_type": "code",
   "execution_count": 9,
   "metadata": {},
   "outputs": [
    {
     "data": {
      "text/html": [
       "<table style='border-style:solid;border-width:1px;'><tbody><tr><td style='font-family:monospace;' title='(0, 0)'><pre>0</pre></td><td style='font-family:monospace;' title='(0, 1)'><pre>1</pre></td><td style='font-family:monospace;' title='(0, 2)'><pre>2</pre></td></tr><tr><td style='font-family:monospace;' title='(1, 0)'><pre>3</pre></td><td style='font-family:monospace;' title='(1, 1)'><pre>4</pre></td><td style='font-family:monospace;' title='(1, 2)'><pre>5</pre></td></tr><tr><td style='font-family:monospace;' title='(2, 0)'><pre>6</pre></td><td style='font-family:monospace;' title='(2, 1)'><pre>7</pre></td><td style='font-family:monospace;' title='(2, 2)'><pre>8</pre></td></tr></tbody></table>"
      ]
     },
     "execution_count": 9,
     "metadata": {},
     "output_type": "execute_result"
    }
   ],
   "source": [
    "a.reshape({3,3});\n",
    "a"
   ]
  },
  {
   "cell_type": "code",
   "execution_count": 10,
   "metadata": {},
   "outputs": [
    {
     "data": {
      "text/html": [
       "<table style='border-style:solid;border-width:1px;'><tbody><tr><td style='font-family:monospace;' title='(0, 0)'><pre> true</pre></td><td style='font-family:monospace;' title='(0, 1)'><pre>false</pre></td><td style='font-family:monospace;' title='(0, 2)'><pre>false</pre></td></tr><tr><td style='font-family:monospace;' title='(1, 0)'><pre>false</pre></td><td style='font-family:monospace;' title='(1, 1)'><pre> true</pre></td><td style='font-family:monospace;' title='(1, 2)'><pre>false</pre></td></tr><tr><td style='font-family:monospace;' title='(2, 0)'><pre>false</pre></td><td style='font-family:monospace;' title='(2, 1)'><pre>false</pre></td><td style='font-family:monospace;' title='(2, 2)'><pre> true</pre></td></tr></tbody></table>"
      ]
     },
     "execution_count": 10,
     "metadata": {},
     "output_type": "execute_result"
    }
   ],
   "source": [
    "//Why is this identity matrix a boolean?\n",
    "xt::eye(3)"
   ]
  },
  {
   "cell_type": "code",
   "execution_count": 14,
   "metadata": {},
   "outputs": [
    {
     "data": {
      "text/html": [
       "<table style='border-style:solid;border-width:1px;'><tbody><tr><td style='font-family:monospace;' title='0'><pre> 0.392785</pre></td></tr></tbody></table>"
      ]
     },
     "execution_count": 14,
     "metadata": {},
     "output_type": "execute_result"
    }
   ],
   "source": [
    "xt::random::rand<double>({1})"
   ]
  },
  {
   "cell_type": "code",
   "execution_count": 3,
   "metadata": {},
   "outputs": [
    {
     "data": {
      "text/html": [
       "<table style='border-style:solid;border-width:1px;'><tbody><tr><td style='font-family:monospace;' title='0'><pre>   1.</pre></td></tr><tr><td style='font-family:monospace;' title='1'><pre>   2.</pre></td></tr><tr><td style='font-family:monospace;' title='2'><pre>   3.</pre></td></tr><tr><td style='font-family:monospace;' title='3'><pre>   4.</pre></td></tr><tr><td style='font-family:monospace;' title='4'><pre>   5.</pre></td></tr><tr><td style='font-family:monospace;' title='5'><pre>   6.</pre></td></tr><tr><td style='font-family:monospace;' title='6'><pre>   7.</pre></td></tr><tr><td style='font-family:monospace;' title='7'><pre>   8.</pre></td></tr><tr><td style='font-family:monospace;' title='8'><pre>   9.</pre></td></tr><tr><td style='font-family:monospace;' title='9'><pre>  10.</pre></td></tr><tr><td style='font-family:monospace;' title='10'><pre>  11.</pre></td></tr><tr><td style='font-family:monospace;' title='11'><pre>  12.</pre></td></tr><tr><td style='font-family:monospace;' title='12'><pre>  13.</pre></td></tr><tr><td style='font-family:monospace;' title='13'><pre>  14.</pre></td></tr><tr><td style='font-family:monospace;' title='14'><pre>  15.</pre></td></tr><tr><td style='font-family:monospace;' title='15'><pre>  16.</pre></td></tr><tr><td style='font-family:monospace;' title='16'><pre>  17.</pre></td></tr><tr><td style='font-family:monospace;' title='17'><pre>  18.</pre></td></tr><tr><td style='font-family:monospace;' title='18'><pre>  19.</pre></td></tr><tr><td style='font-family:monospace;' title='19'><pre>  20.</pre></td></tr><tr><td style='font-family:monospace;' title='20'><pre>  21.</pre></td></tr><tr><td style='font-family:monospace;' title='21'><pre>  22.</pre></td></tr><tr><td style='font-family:monospace;' title='22'><pre>  23.</pre></td></tr><tr><td style='font-family:monospace;' title='23'><pre>  24.</pre></td></tr><tr><td style='font-family:monospace;' title='24'><pre>  25.</pre></td></tr><tr><td style='font-family:monospace;' title='25'><pre>  26.</pre></td></tr><tr><td style='font-family:monospace;' title='26'><pre>  27.</pre></td></tr><tr><td style='font-family:monospace;' title='27'><pre>  28.</pre></td></tr><tr><td style='font-family:monospace;' title='28'><pre>  29.</pre></td></tr><tr><td style='font-family:monospace;' title='29'><pre>  30.</pre></td></tr><tr><td style='font-family:monospace;' title='30'><pre>  31.</pre></td></tr><tr><td style='font-family:monospace;' title='31'><pre>  32.</pre></td></tr><tr><td style='font-family:monospace;' title='32'><pre>  33.</pre></td></tr><tr><td style='font-family:monospace;' title='33'><pre>  34.</pre></td></tr><tr><td style='font-family:monospace;' title='34'><pre>  35.</pre></td></tr><tr><td style='font-family:monospace;' title='35'><pre>  36.</pre></td></tr><tr><td style='font-family:monospace;' title='36'><pre>  37.</pre></td></tr><tr><td style='font-family:monospace;' title='37'><pre>  38.</pre></td></tr><tr><td style='font-family:monospace;' title='38'><pre>  39.</pre></td></tr><tr><td style='font-family:monospace;' title='39'><pre>  40.</pre></td></tr><tr><td style='font-family:monospace;' title='40'><pre>  41.</pre></td></tr><tr><td style='font-family:monospace;' title='41'><pre>  42.</pre></td></tr><tr><td style='font-family:monospace;' title='42'><pre>  43.</pre></td></tr><tr><td style='font-family:monospace;' title='43'><pre>  44.</pre></td></tr><tr><td style='font-family:monospace;' title='44'><pre>  45.</pre></td></tr><tr><td style='font-family:monospace;' title='45'><pre>  46.</pre></td></tr><tr><td style='font-family:monospace;' title='46'><pre>  47.</pre></td></tr><tr><td style='font-family:monospace;' title='47'><pre>  48.</pre></td></tr><tr><td style='font-family:monospace;' title='48'><pre>  49.</pre></td></tr><tr><td style='font-family:monospace;' title='49'><pre>  50.</pre></td></tr><tr><td style='font-family:monospace;' title='50'><pre>  51.</pre></td></tr><tr><td style='font-family:monospace;' title='51'><pre>  52.</pre></td></tr><tr><td style='font-family:monospace;' title='52'><pre>  53.</pre></td></tr><tr><td style='font-family:monospace;' title='53'><pre>  54.</pre></td></tr><tr><td style='font-family:monospace;' title='54'><pre>  55.</pre></td></tr><tr><td style='font-family:monospace;' title='55'><pre>  56.</pre></td></tr><tr><td style='font-family:monospace;' title='56'><pre>  57.</pre></td></tr><tr><td style='font-family:monospace;' title='57'><pre>  58.</pre></td></tr><tr><td style='font-family:monospace;' title='58'><pre>  59.</pre></td></tr><tr><td style='font-family:monospace;' title='59'><pre>  60.</pre></td></tr><tr><td style='font-family:monospace;' title='60'><pre>  61.</pre></td></tr><tr><td style='font-family:monospace;' title='61'><pre>  62.</pre></td></tr><tr><td style='font-family:monospace;' title='62'><pre>  63.</pre></td></tr><tr><td style='font-family:monospace;' title='63'><pre>  64.</pre></td></tr><tr><td style='font-family:monospace;' title='64'><pre>  65.</pre></td></tr><tr><td style='font-family:monospace;' title='65'><pre>  66.</pre></td></tr><tr><td style='font-family:monospace;' title='66'><pre>  67.</pre></td></tr><tr><td style='font-family:monospace;' title='67'><pre>  68.</pre></td></tr><tr><td style='font-family:monospace;' title='68'><pre>  69.</pre></td></tr><tr><td style='font-family:monospace;' title='69'><pre>  70.</pre></td></tr><tr><td style='font-family:monospace;' title='70'><pre>  71.</pre></td></tr><tr><td style='font-family:monospace;' title='71'><pre>  72.</pre></td></tr><tr><td style='font-family:monospace;' title='72'><pre>  73.</pre></td></tr><tr><td style='font-family:monospace;' title='73'><pre>  74.</pre></td></tr><tr><td style='font-family:monospace;' title='74'><pre>  75.</pre></td></tr><tr><td style='font-family:monospace;' title='75'><pre>  76.</pre></td></tr><tr><td style='font-family:monospace;' title='76'><pre>  77.</pre></td></tr><tr><td style='font-family:monospace;' title='77'><pre>  78.</pre></td></tr><tr><td style='font-family:monospace;' title='78'><pre>  79.</pre></td></tr><tr><td style='font-family:monospace;' title='79'><pre>  80.</pre></td></tr><tr><td style='font-family:monospace;' title='80'><pre>  81.</pre></td></tr><tr><td style='font-family:monospace;' title='81'><pre>  82.</pre></td></tr><tr><td style='font-family:monospace;' title='82'><pre>  83.</pre></td></tr><tr><td style='font-family:monospace;' title='83'><pre>  84.</pre></td></tr><tr><td style='font-family:monospace;' title='84'><pre>  85.</pre></td></tr><tr><td style='font-family:monospace;' title='85'><pre>  86.</pre></td></tr><tr><td style='font-family:monospace;' title='86'><pre>  87.</pre></td></tr><tr><td style='font-family:monospace;' title='87'><pre>  88.</pre></td></tr><tr><td style='font-family:monospace;' title='88'><pre>  89.</pre></td></tr><tr><td style='font-family:monospace;' title='89'><pre>  90.</pre></td></tr><tr><td style='font-family:monospace;' title='90'><pre>  91.</pre></td></tr><tr><td style='font-family:monospace;' title='91'><pre>  92.</pre></td></tr><tr><td style='font-family:monospace;' title='92'><pre>  93.</pre></td></tr><tr><td style='font-family:monospace;' title='93'><pre>  94.</pre></td></tr><tr><td style='font-family:monospace;' title='94'><pre>  95.</pre></td></tr><tr><td style='font-family:monospace;' title='95'><pre>  96.</pre></td></tr><tr><td style='font-family:monospace;' title='96'><pre>  97.</pre></td></tr><tr><td style='font-family:monospace;' title='97'><pre>  98.</pre></td></tr><tr><td style='font-family:monospace;' title='98'><pre>  99.</pre></td></tr><tr><td style='font-family:monospace;' title='99'><pre> 100.</pre></td></tr></tbody></table>"
      ]
     },
     "execution_count": 3,
     "metadata": {},
     "output_type": "execute_result"
    }
   ],
   "source": [
    "xt::xarray<double> b = xt::arange<double>(1, 101);\n",
    "b"
   ]
  },
  {
   "cell_type": "code",
   "execution_count": 26,
   "metadata": {
    "scrolled": true
   },
   "outputs": [
    {
     "data": {
      "text/html": [
       "<table style='border-style:solid;border-width:1px;'><tbody><tr><td style='font-family:monospace;' title='(0, 0)'><pre> 0.01 </pre></td><td style='font-family:monospace;' title='(0, 1)'><pre> 0.02 </pre></td><td style='font-family:monospace;' title='(0, 2)'><pre> 0.03 </pre></td><td style='font-family:monospace;' title='(0, 3)'><pre> 0.04 </pre></td><td style='font-family:monospace;' title='(0, 4)'><pre> 0.05 </pre></td><td style='font-family:monospace;' title='(0, 5)'><pre> 0.06 </pre></td><td style='font-family:monospace;' title='(0, 6)'><pre> 0.07 </pre></td><td style='font-family:monospace;' title='(0, 7)'><pre> 0.08 </pre></td><td style='font-family:monospace;' title='(0, 8)'><pre> 0.09 </pre></td><td style='font-family:monospace;' title='(0, 9)'><pre> 0.1  </pre></td></tr><tr><td style='font-family:monospace;' title='(1, 0)'><pre> 0.11 </pre></td><td style='font-family:monospace;' title='(1, 1)'><pre> 0.12 </pre></td><td style='font-family:monospace;' title='(1, 2)'><pre> 0.13 </pre></td><td style='font-family:monospace;' title='(1, 3)'><pre> 0.14 </pre></td><td style='font-family:monospace;' title='(1, 4)'><pre> 0.15 </pre></td><td style='font-family:monospace;' title='(1, 5)'><pre> 0.16 </pre></td><td style='font-family:monospace;' title='(1, 6)'><pre> 0.17 </pre></td><td style='font-family:monospace;' title='(1, 7)'><pre> 0.18 </pre></td><td style='font-family:monospace;' title='(1, 8)'><pre> 0.19 </pre></td><td style='font-family:monospace;' title='(1, 9)'><pre> 0.2  </pre></td></tr><tr><td style='font-family:monospace;' title='(2, 0)'><pre> 0.21 </pre></td><td style='font-family:monospace;' title='(2, 1)'><pre> 0.22 </pre></td><td style='font-family:monospace;' title='(2, 2)'><pre> 0.23 </pre></td><td style='font-family:monospace;' title='(2, 3)'><pre> 0.24 </pre></td><td style='font-family:monospace;' title='(2, 4)'><pre> 0.25 </pre></td><td style='font-family:monospace;' title='(2, 5)'><pre> 0.26 </pre></td><td style='font-family:monospace;' title='(2, 6)'><pre> 0.27 </pre></td><td style='font-family:monospace;' title='(2, 7)'><pre> 0.28 </pre></td><td style='font-family:monospace;' title='(2, 8)'><pre> 0.29 </pre></td><td style='font-family:monospace;' title='(2, 9)'><pre> 0.3  </pre></td></tr><tr><td style='font-family:monospace;' title='(3, 0)'><pre> 0.31 </pre></td><td style='font-family:monospace;' title='(3, 1)'><pre> 0.32 </pre></td><td style='font-family:monospace;' title='(3, 2)'><pre> 0.33 </pre></td><td style='font-family:monospace;' title='(3, 3)'><pre> 0.34 </pre></td><td style='font-family:monospace;' title='(3, 4)'><pre> 0.35 </pre></td><td style='font-family:monospace;' title='(3, 5)'><pre> 0.36 </pre></td><td style='font-family:monospace;' title='(3, 6)'><pre> 0.37 </pre></td><td style='font-family:monospace;' title='(3, 7)'><pre> 0.38 </pre></td><td style='font-family:monospace;' title='(3, 8)'><pre> 0.39 </pre></td><td style='font-family:monospace;' title='(3, 9)'><pre> 0.4  </pre></td></tr><tr><td style='font-family:monospace;' title='(4, 0)'><pre> 0.41 </pre></td><td style='font-family:monospace;' title='(4, 1)'><pre> 0.42 </pre></td><td style='font-family:monospace;' title='(4, 2)'><pre> 0.43 </pre></td><td style='font-family:monospace;' title='(4, 3)'><pre> 0.44 </pre></td><td style='font-family:monospace;' title='(4, 4)'><pre> 0.45 </pre></td><td style='font-family:monospace;' title='(4, 5)'><pre> 0.46 </pre></td><td style='font-family:monospace;' title='(4, 6)'><pre> 0.47 </pre></td><td style='font-family:monospace;' title='(4, 7)'><pre> 0.48 </pre></td><td style='font-family:monospace;' title='(4, 8)'><pre> 0.49 </pre></td><td style='font-family:monospace;' title='(4, 9)'><pre> 0.5  </pre></td></tr><tr><td style='font-family:monospace;' title='(5, 0)'><pre> 0.51 </pre></td><td style='font-family:monospace;' title='(5, 1)'><pre> 0.52 </pre></td><td style='font-family:monospace;' title='(5, 2)'><pre> 0.53 </pre></td><td style='font-family:monospace;' title='(5, 3)'><pre> 0.54 </pre></td><td style='font-family:monospace;' title='(5, 4)'><pre> 0.55 </pre></td><td style='font-family:monospace;' title='(5, 5)'><pre> 0.56 </pre></td><td style='font-family:monospace;' title='(5, 6)'><pre> 0.57 </pre></td><td style='font-family:monospace;' title='(5, 7)'><pre> 0.58 </pre></td><td style='font-family:monospace;' title='(5, 8)'><pre> 0.59 </pre></td><td style='font-family:monospace;' title='(5, 9)'><pre> 0.6  </pre></td></tr><tr><td style='font-family:monospace;' title='(6, 0)'><pre> 0.61 </pre></td><td style='font-family:monospace;' title='(6, 1)'><pre> 0.62 </pre></td><td style='font-family:monospace;' title='(6, 2)'><pre> 0.63 </pre></td><td style='font-family:monospace;' title='(6, 3)'><pre> 0.64 </pre></td><td style='font-family:monospace;' title='(6, 4)'><pre> 0.65 </pre></td><td style='font-family:monospace;' title='(6, 5)'><pre> 0.66 </pre></td><td style='font-family:monospace;' title='(6, 6)'><pre> 0.67 </pre></td><td style='font-family:monospace;' title='(6, 7)'><pre> 0.68 </pre></td><td style='font-family:monospace;' title='(6, 8)'><pre> 0.69 </pre></td><td style='font-family:monospace;' title='(6, 9)'><pre> 0.7  </pre></td></tr><tr><td style='font-family:monospace;' title='(7, 0)'><pre> 0.71 </pre></td><td style='font-family:monospace;' title='(7, 1)'><pre> 0.72 </pre></td><td style='font-family:monospace;' title='(7, 2)'><pre> 0.73 </pre></td><td style='font-family:monospace;' title='(7, 3)'><pre> 0.74 </pre></td><td style='font-family:monospace;' title='(7, 4)'><pre> 0.75 </pre></td><td style='font-family:monospace;' title='(7, 5)'><pre> 0.76 </pre></td><td style='font-family:monospace;' title='(7, 6)'><pre> 0.77 </pre></td><td style='font-family:monospace;' title='(7, 7)'><pre> 0.78 </pre></td><td style='font-family:monospace;' title='(7, 8)'><pre> 0.79 </pre></td><td style='font-family:monospace;' title='(7, 9)'><pre> 0.8  </pre></td></tr><tr><td style='font-family:monospace;' title='(8, 0)'><pre> 0.81 </pre></td><td style='font-family:monospace;' title='(8, 1)'><pre> 0.82 </pre></td><td style='font-family:monospace;' title='(8, 2)'><pre> 0.83 </pre></td><td style='font-family:monospace;' title='(8, 3)'><pre> 0.84 </pre></td><td style='font-family:monospace;' title='(8, 4)'><pre> 0.85 </pre></td><td style='font-family:monospace;' title='(8, 5)'><pre> 0.86 </pre></td><td style='font-family:monospace;' title='(8, 6)'><pre> 0.87 </pre></td><td style='font-family:monospace;' title='(8, 7)'><pre> 0.88 </pre></td><td style='font-family:monospace;' title='(8, 8)'><pre> 0.89 </pre></td><td style='font-family:monospace;' title='(8, 9)'><pre> 0.9  </pre></td></tr><tr><td style='font-family:monospace;' title='(9, 0)'><pre> 0.91 </pre></td><td style='font-family:monospace;' title='(9, 1)'><pre> 0.92 </pre></td><td style='font-family:monospace;' title='(9, 2)'><pre> 0.93 </pre></td><td style='font-family:monospace;' title='(9, 3)'><pre> 0.94 </pre></td><td style='font-family:monospace;' title='(9, 4)'><pre> 0.95 </pre></td><td style='font-family:monospace;' title='(9, 5)'><pre> 0.96 </pre></td><td style='font-family:monospace;' title='(9, 6)'><pre> 0.97 </pre></td><td style='font-family:monospace;' title='(9, 7)'><pre> 0.98 </pre></td><td style='font-family:monospace;' title='(9, 8)'><pre> 0.99 </pre></td><td style='font-family:monospace;' title='(9, 9)'><pre> 1.   </pre></td></tr></tbody></table>"
      ]
     },
     "execution_count": 26,
     "metadata": {},
     "output_type": "execute_result"
    }
   ],
   "source": [
    "b.reshape({10,10});\n",
    "b/100"
   ]
  },
  {
   "cell_type": "code",
   "execution_count": 27,
   "metadata": {},
   "outputs": [
    {
     "data": {
      "text/html": [
       "<table style='border-style:solid;border-width:1px;'><tbody><tr><td style='font-family:monospace;' title='0'><pre> 0.      </pre></td></tr><tr><td style='font-family:monospace;' title='1'><pre> 0.052632</pre></td></tr><tr><td style='font-family:monospace;' title='2'><pre> 0.105263</pre></td></tr><tr><td style='font-family:monospace;' title='3'><pre> 0.157895</pre></td></tr><tr><td style='font-family:monospace;' title='4'><pre> 0.210526</pre></td></tr><tr><td style='font-family:monospace;' title='5'><pre> 0.263158</pre></td></tr><tr><td style='font-family:monospace;' title='6'><pre> 0.315789</pre></td></tr><tr><td style='font-family:monospace;' title='7'><pre> 0.368421</pre></td></tr><tr><td style='font-family:monospace;' title='8'><pre> 0.421053</pre></td></tr><tr><td style='font-family:monospace;' title='9'><pre> 0.473684</pre></td></tr><tr><td style='font-family:monospace;' title='10'><pre> 0.526316</pre></td></tr><tr><td style='font-family:monospace;' title='11'><pre> 0.578947</pre></td></tr><tr><td style='font-family:monospace;' title='12'><pre> 0.631579</pre></td></tr><tr><td style='font-family:monospace;' title='13'><pre> 0.684211</pre></td></tr><tr><td style='font-family:monospace;' title='14'><pre> 0.736842</pre></td></tr><tr><td style='font-family:monospace;' title='15'><pre> 0.789474</pre></td></tr><tr><td style='font-family:monospace;' title='16'><pre> 0.842105</pre></td></tr><tr><td style='font-family:monospace;' title='17'><pre> 0.894737</pre></td></tr><tr><td style='font-family:monospace;' title='18'><pre> 0.947368</pre></td></tr><tr><td style='font-family:monospace;' title='19'><pre> 1.      </pre></td></tr></tbody></table>"
      ]
     },
     "execution_count": 27,
     "metadata": {},
     "output_type": "execute_result"
    }
   ],
   "source": [
    "xt::linspace<double>(0, 1, 20)"
   ]
  },
  {
   "cell_type": "code",
   "execution_count": 5,
   "metadata": {},
   "outputs": [
    {
     "name": "stderr",
     "output_type": "stream",
     "text": [
      "\u001b[1minput_line_16:2:18: \u001b[0m\u001b[0;1;31merror: \u001b[0m\u001b[1mredefinition of 'mat'\u001b[0m\n",
      " xt::xarray<int> mat = xt::arange<int>(1,26);\n",
      "\u001b[0;1;32m                 ^\n",
      "\u001b[0m\u001b[1minput_line_14:2:18: \u001b[0m\u001b[0;1;30mnote: \u001b[0mprevious definition is here\u001b[0m\n",
      " xt::xarray<int> mat = xt::arange<int>(1,26);\n",
      "\u001b[0;1;32m                 ^\n",
      "\u001b[0m"
     ]
    },
    {
     "ename": "Interpreter Error",
     "evalue": "",
     "output_type": "error",
     "traceback": [
      "Interpreter Error: "
     ]
    }
   ],
   "source": [
    "xt::xarray<int> mat = xt::arange<int>(1,26);\n",
    "mat"
   ]
  },
  {
   "cell_type": "code",
   "execution_count": 13,
   "metadata": {
    "scrolled": false
   },
   "outputs": [
    {
     "data": {
      "text/html": [
       "<table style='border-style:solid;border-width:1px;'><tbody><tr><td style='font-family:monospace;' title='(0, 0)'><pre> 1</pre></td><td style='font-family:monospace;' title='(0, 1)'><pre> 2</pre></td><td style='font-family:monospace;' title='(0, 2)'><pre> 3</pre></td><td style='font-family:monospace;' title='(0, 3)'><pre> 4</pre></td><td style='font-family:monospace;' title='(0, 4)'><pre> 5</pre></td></tr><tr><td style='font-family:monospace;' title='(1, 0)'><pre> 6</pre></td><td style='font-family:monospace;' title='(1, 1)'><pre> 7</pre></td><td style='font-family:monospace;' title='(1, 2)'><pre> 8</pre></td><td style='font-family:monospace;' title='(1, 3)'><pre> 9</pre></td><td style='font-family:monospace;' title='(1, 4)'><pre>10</pre></td></tr><tr><td style='font-family:monospace;' title='(2, 0)'><pre>11</pre></td><td style='font-family:monospace;' title='(2, 1)'><pre>12</pre></td><td style='font-family:monospace;' title='(2, 2)'><pre>13</pre></td><td style='font-family:monospace;' title='(2, 3)'><pre>14</pre></td><td style='font-family:monospace;' title='(2, 4)'><pre>15</pre></td></tr><tr><td style='font-family:monospace;' title='(3, 0)'><pre>16</pre></td><td style='font-family:monospace;' title='(3, 1)'><pre>17</pre></td><td style='font-family:monospace;' title='(3, 2)'><pre>18</pre></td><td style='font-family:monospace;' title='(3, 3)'><pre>19</pre></td><td style='font-family:monospace;' title='(3, 4)'><pre>20</pre></td></tr><tr><td style='font-family:monospace;' title='(4, 0)'><pre>21</pre></td><td style='font-family:monospace;' title='(4, 1)'><pre>22</pre></td><td style='font-family:monospace;' title='(4, 2)'><pre>23</pre></td><td style='font-family:monospace;' title='(4, 3)'><pre>24</pre></td><td style='font-family:monospace;' title='(4, 4)'><pre>25</pre></td></tr></tbody></table>"
      ]
     },
     "execution_count": 13,
     "metadata": {},
     "output_type": "execute_result"
    }
   ],
   "source": [
    "mat.reshape({5,5});\n",
    "mat"
   ]
  },
  {
   "cell_type": "code",
   "execution_count": 34,
   "metadata": {
    "scrolled": true
   },
   "outputs": [
    {
     "data": {
      "text/html": [
       "<table style='border-style:solid;border-width:1px;'><tbody><tr><td style='font-family:monospace;' title='(0, 0)'><pre>12</pre></td><td style='font-family:monospace;' title='(0, 1)'><pre>13</pre></td><td style='font-family:monospace;' title='(0, 2)'><pre>14</pre></td><td style='font-family:monospace;' title='(0, 3)'><pre>15</pre></td></tr><tr><td style='font-family:monospace;' title='(1, 0)'><pre>17</pre></td><td style='font-family:monospace;' title='(1, 1)'><pre>18</pre></td><td style='font-family:monospace;' title='(1, 2)'><pre>19</pre></td><td style='font-family:monospace;' title='(1, 3)'><pre>20</pre></td></tr><tr><td style='font-family:monospace;' title='(2, 0)'><pre>22</pre></td><td style='font-family:monospace;' title='(2, 1)'><pre>23</pre></td><td style='font-family:monospace;' title='(2, 2)'><pre>24</pre></td><td style='font-family:monospace;' title='(2, 3)'><pre>25</pre></td></tr></tbody></table>"
      ]
     },
     "execution_count": 34,
     "metadata": {},
     "output_type": "execute_result"
    }
   ],
   "source": [
    "#include \"xtensor/xslice.hpp\"\n",
    "xt::view(mat, xt::range(2, 5), xt::range(1, 5))"
   ]
  },
  {
   "cell_type": "code",
   "execution_count": 36,
   "metadata": {
    "scrolled": true
   },
   "outputs": [
    {
     "data": {
      "text/plain": [
       "20"
      ]
     },
     "execution_count": 36,
     "metadata": {},
     "output_type": "execute_result"
    }
   ],
   "source": [
    "mat(3,4)"
   ]
  },
  {
   "cell_type": "code",
   "execution_count": 5,
   "metadata": {},
   "outputs": [
    {
     "data": {
      "text/html": [
       "<table style='border-style:solid;border-width:1px;'><tbody><tr><td style='font-family:monospace;' title='(0, 0)'><pre> 2</pre></td></tr><tr><td style='font-family:monospace;' title='(1, 0)'><pre> 7</pre></td></tr><tr><td style='font-family:monospace;' title='(2, 0)'><pre>12</pre></td></tr></tbody></table>"
      ]
     },
     "execution_count": 5,
     "metadata": {},
     "output_type": "execute_result"
    }
   ],
   "source": [
    "#include <iostream>\n",
    "\n",
    "#include \"xtensor/xarray.hpp\"\n",
    "#include \"xtensor/xio.hpp\"\n",
    "#include \"xtensor/xview.hpp\"\n",
    "#include \"xtensor/xtensor.hpp\"\n",
    "#include \"xtensor/xmath.hpp\"\n",
    "#include \"xtensor/xstrided_view.hpp\"\n",
    "#include \"xtensor/xrandom.hpp\"\n",
    "#include \"xtensor/xmanipulation.hpp\"\n",
    "#include \"xtensor/xslice.hpp\"\n",
    "xt::view(mat, xt::range(0, 3), xt::range(1, 2))"
   ]
  },
  {
   "cell_type": "code",
   "execution_count": 6,
   "metadata": {},
   "outputs": [
    {
     "data": {
      "text/html": [
       "<table style='border-style:solid;border-width:1px;'><tbody><tr><td style='font-family:monospace;' title='0'><pre>21</pre></td></tr><tr><td style='font-family:monospace;' title='1'><pre>22</pre></td></tr><tr><td style='font-family:monospace;' title='2'><pre>23</pre></td></tr><tr><td style='font-family:monospace;' title='3'><pre>24</pre></td></tr><tr><td style='font-family:monospace;' title='4'><pre>25</pre></td></tr></tbody></table>"
      ]
     },
     "execution_count": 6,
     "metadata": {},
     "output_type": "execute_result"
    }
   ],
   "source": [
    "xt::view(mat, 4, xt::all())"
   ]
  },
  {
   "cell_type": "code",
   "execution_count": 7,
   "metadata": {},
   "outputs": [
    {
     "data": {
      "text/html": [
       "<table style='border-style:solid;border-width:1px;'><tbody><tr><td style='font-family:monospace;' title='(0, 0)'><pre>16</pre></td><td style='font-family:monospace;' title='(0, 1)'><pre>17</pre></td><td style='font-family:monospace;' title='(0, 2)'><pre>18</pre></td><td style='font-family:monospace;' title='(0, 3)'><pre>19</pre></td><td style='font-family:monospace;' title='(0, 4)'><pre>20</pre></td></tr><tr><td style='font-family:monospace;' title='(1, 0)'><pre>21</pre></td><td style='font-family:monospace;' title='(1, 1)'><pre>22</pre></td><td style='font-family:monospace;' title='(1, 2)'><pre>23</pre></td><td style='font-family:monospace;' title='(1, 3)'><pre>24</pre></td><td style='font-family:monospace;' title='(1, 4)'><pre>25</pre></td></tr></tbody></table>"
      ]
     },
     "execution_count": 7,
     "metadata": {},
     "output_type": "execute_result"
    }
   ],
   "source": [
    "xt::view(mat, xt::range(3, 5), xt::all())"
   ]
  },
  {
   "cell_type": "code",
   "execution_count": 9,
   "metadata": {},
   "outputs": [
    {
     "data": {
      "text/html": [
       "<table style='border-style:solid;border-width:1px;'><tbody><tr><td style='font-family:monospace;'><pre>325</pre></td></tr></tbody></table>"
      ]
     },
     "execution_count": 9,
     "metadata": {},
     "output_type": "execute_result"
    }
   ],
   "source": [
    "xt::sum(mat)"
   ]
  },
  {
   "cell_type": "code",
   "execution_count": 9,
   "metadata": {
    "scrolled": true
   },
   "outputs": [
    {
     "data": {
      "text/html": [
       "<table style='border-style:solid;border-width:1px;'><tbody><tr><td style='font-family:monospace;'><pre>7.2111</pre></td></tr></tbody></table>"
      ]
     },
     "execution_count": 9,
     "metadata": {},
     "output_type": "execute_result"
    }
   ],
   "source": [
    "xt::stddev(mat, {0})"
   ]
  },
  {
   "cell_type": "code",
   "execution_count": 15,
   "metadata": {
    "scrolled": true
   },
   "outputs": [
    {
     "data": {
      "text/html": [
       "<table style='border-style:solid;border-width:1px;'><tbody><tr><td style='font-family:monospace;' title='0'><pre>55</pre></td></tr><tr><td style='font-family:monospace;' title='1'><pre>60</pre></td></tr><tr><td style='font-family:monospace;' title='2'><pre>65</pre></td></tr><tr><td style='font-family:monospace;' title='3'><pre>70</pre></td></tr><tr><td style='font-family:monospace;' title='4'><pre>75</pre></td></tr></tbody></table>"
      ]
     },
     "execution_count": 15,
     "metadata": {},
     "output_type": "execute_result"
    }
   ],
   "source": [
    "// Get the sum of all the columns in mat\n",
    "//mat.sum(axis=0)\n",
    "xt::sum(mat, {0})"
   ]
  },
  {
   "cell_type": "code",
   "execution_count": 16,
   "metadata": {},
   "outputs": [],
   "source": [
    "// Bonus Question\n",
    "// We worked a lot with random data with numpy, \n",
    "// but is there a way we can insure that we always \n",
    "// get the same random numbers? \n",
    "//np.random.seed(101)\n",
    "xt::random::seed(101)"
   ]
  }
 ],
 "metadata": {
  "kernelspec": {
   "display_name": "C++14",
   "language": "C++14",
   "name": "xcpp14"
  },
  "language_info": {
   "codemirror_mode": "text/x-c++src",
   "file_extension": ".cpp",
   "mimetype": "text/x-c++src",
   "name": "c++",
   "version": "14"
  }
 },
 "nbformat": 4,
 "nbformat_minor": 4
}
